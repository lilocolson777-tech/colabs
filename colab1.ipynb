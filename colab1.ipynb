{
 "cells": [
  {
   "cell_type": "markdown",
   "id": "919cac15",
   "metadata": {},
   "source": [
    "## Setup environment\n",
    "Install PyTorch, transformers, and Triton kernels needed to run the MXFP4 version of GPT‑OSS‑20B."
   ]
  },
  {
   "cell_type": "code",
   "execution_count": null,
   "id": "4daf226a",
   "metadata": {},
   "outputs": [],
   "source": [
    "# Environment setup\n",
    "# Upgrade PyTorch and install transformers, triton kernels and kernels\n",
    "!pip install -q --upgrade torch\n",
    "!pip install -q transformers triton==3.4 kernels\n",
    "# Remove torchvision/torchaudio to avoid dependency conflicts\n",
    "!pip uninstall -q torchvision torchaudio -y\n"
   ]
  },
  {
   "cell_type": "markdown",
   "id": "ca8a0be7",
   "metadata": {},
   "source": [
    "## Load the model\n",
    "Use Hugging Face Transformers to load the MXFP4‑quantized GPT‑OSS‑20B model onto the GPU."
   ]
  },
  {
   "cell_type": "code",
   "execution_count": null,
   "id": "f2779117",
   "metadata": {},
   "outputs": [],
   "source": [
    "# Load the GPT‑OSS‑20B model and tokenizer\n",
    "from transformers import AutoModelForCausalLM, AutoTokenizer\n",
    "import torch\n",
    "\n",
    "model_id = \"openai/gpt-oss-20b\"\n",
    "\n",
    "# Load tokenizer and model\n",
    "tokenizer = AutoTokenizer.from_pretrained(model_id)\n",
    "model = AutoModelForCausalLM.from_pretrained(\n",
    "    model_id,\n",
    "    torch_dtype=\"auto\",\n",
    "    device_map=\"cuda\",\n",
    ")\n"
   ]
  },
  {
   "cell_type": "markdown",
   "id": "b70c3ca7",
   "metadata": {},
   "source": [
    "## Generate a reply (medium reasoning)\n",
    "Demonstrate a simple generation using the Harmony chat template with default reasoning."
   ]
  },
  {
   "cell_type": "code",
   "execution_count": null,
   "id": "4e95deeb",
   "metadata": {},
   "outputs": [],
   "source": [
    "# Generate a response with default (medium) reasoning\n",
    "messages = [\n",
    "    {\"role\": \"system\", \"content\": \"Always respond in riddles\"},\n",
    "    {\"role\": \"user\", \"content\": \"What is the weather like in Madrid?\"},\n",
    "]\n",
    "inputs = tokenizer.apply_chat_template(\n",
    "    messages,\n",
    "    add_generation_prompt=True,\n",
    "    return_tensors=\"pt\",\n",
    "    return_dict=True,\n",
    ").to(model.device)\n",
    "\n",
    "output_ids = model.generate(**inputs, max_new_tokens=256)\n",
    "reply = tokenizer.decode(\n",
    "    output_ids[0][inputs[\"input_ids\"].shape[-1]:],\n",
    "    skip_special_tokens=True,\n",
    ")\n",
    "print(reply)\n"
   ]
  },
  {
   "cell_type": "markdown",
   "id": "e64bcaf1",
   "metadata": {},
   "source": [
    "## High‑effort reasoning\n",
    "Example of generating a response using high reasoning effort."
   ]
  },
  {
   "cell_type": "code",
   "execution_count": null,
   "id": "1da610a1",
   "metadata": {},
   "outputs": [],
   "source": [
    "# Generate a response with high reasoning effort\n",
    "high_messages = [\n",
    "    {\"role\": \"system\", \"content\": \"Always respond in riddles\"},\n",
    "    {\"role\": \"user\", \"content\": \"Explain why the meaning of life is 42\"},\n",
    "]\n",
    "high_inputs = tokenizer.apply_chat_template(\n",
    "    high_messages,\n",
    "    add_generation_prompt=True,\n",
    "    return_tensors=\"pt\",\n",
    "    return_dict=True,\n",
    "    reasoning_effort=\"high\",\n",
    ").to(model.device)\n",
    "\n",
    "high_output_ids = model.generate(**high_inputs, max_new_tokens=500)\n",
    "high_reply = tokenizer.decode(\n",
    "    high_output_ids[0][high_inputs[\"input_ids\"].shape[-1]:],\n",
    "    skip_special_tokens=True,\n",
    ")\n",
    "print(high_reply)\n"
   ]
  }
 ],
 "metadata": {},
 "nbformat": 4,
 "nbformat_minor": 5
}
[![Open In Colab](https://colab.research.google.com/assets/colab-badge.svg)](https://colab.research.google.com/github/lilocolson777-tech/colabs/blob/main/gpt_oss_20b_colab.ipynb)
